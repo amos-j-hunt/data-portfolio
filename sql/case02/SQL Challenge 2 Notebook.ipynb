{
 "cells": [
  {
   "cell_type": "markdown",
   "metadata": {},
   "source": [
    "# SQL Challenge 2 Notebook"
   ]
  },
  {
   "cell_type": "markdown",
   "metadata": {},
   "source": [
    "## Data Cleaning"
   ]
  },
  {
   "cell_type": "code",
   "execution_count": null,
   "metadata": {
    "vscode": {
     "languageId": "plaintext"
    }
   },
   "outputs": [],
   "source": [
    "--Fix inconsistent null values in customer_orders\n",
    "UPDATE pizza_runner.customer_orders\n",
    "\tSET exclusions = NULLIF(NULLIF(NULLIF(exclusions, ''), 'null'), 'NaN'),\n",
    "    \textras = NULLIF(NULLIF(NULLIF(extras, ''), 'null'), 'NaN');\n",
    "    \n",
    "-- remove unnecessary text in distance and duration measurements and fix inconsistent nulls throughout.\n",
    "ALTER TABLE pizza_runner.runner_orders\n",
    "\tADD COLUMN pickup_time_clean TIMESTAMP,\n",
    "    ADD COLUMN distance_clean NUMERIC(5,2),\n",
    "    ADD COLUMN duration_clean INTEGER,\n",
    "    ADD COLUMN cancellation_clean TEXT;\n",
    "\n",
    "UPDATE pizza_runner.runner_orders\n",
    "\tSET pickup_time_clean = NULLIF(pickup_time, 'null')::TIMESTAMP,\n",
    "    \tdistance_clean = CASE\n",
    "        \tWHEN distance LIKE '%km' THEN TRIM(REPLACE(distance, 'km', ''))::NUMERIC\n",
    "            ELSE NULLIF(distance, 'null')::NUMERIC\n",
    "            END,\n",
    "       \tduration_clean = CASE\n",
    "        \tWHEN duration ~ '\\d+' THEN TRIM(REGEXP_REPLACE(duration, '[^\\d]', '', 'g'))::INTEGER\n",
    "            ELSE NULL\n",
    "            END,\n",
    "     \tcancellation_clean = NULLIF(NULLIF(NULLIF(cancellation, ''), 'NaN'), 'null')::TEXT;\n",
    "        \n",
    "ALTER TABLE pizza_runner.runner_orders\n",
    " \tDROP COLUMN pickup_time,\n",
    "    DROP COLUMN distance,\n",
    "    DROP COLUMN duration,\n",
    "    DROP COLUMN cancellation;\n",
    " \n",
    "ALTER TABLE pizza_runner.runner_orders\n",
    " \tRENAME COLUMN pickup_time_clean TO pickup_time;\n",
    "\n",
    "ALTER TABLE pizza_runner.runner_orders\n",
    " \tRENAME COLUMN distance_clean TO distance;\n",
    "\n",
    "ALTER TABLE pizza_runner.runner_orders\n",
    " \tRENAME COLUMN duration_clean TO duration;\n",
    "\n",
    "ALTER TABLE pizza_runner.runner_orders\n",
    " \tRENAME COLUMN cancellation_clean TO cancellation;"
   ]
  },
  {
   "cell_type": "markdown",
   "metadata": {},
   "source": [
    "## Questions\n",
    "### Pizza Metrics\n",
    "#### 1. How many pizzas were ordered?"
   ]
  },
  {
   "cell_type": "code",
   "execution_count": null,
   "metadata": {
    "vscode": {
     "languageId": "plaintext"
    }
   },
   "outputs": [],
   "source": [
    "SELECT COUNT(*) FROM pizza_runner.customer_orders;"
   ]
  },
  {
   "cell_type": "markdown",
   "metadata": {},
   "source": [
    "| count |\n",
    "| ----- |\n",
    "| 14    |\n",
    "#### 2. How many unique customer orders were made?"
   ]
  },
  {
   "cell_type": "code",
   "execution_count": null,
   "metadata": {
    "vscode": {
     "languageId": "plaintext"
    }
   },
   "outputs": [],
   "source": [
    "SELECT COUNT(DISTINCT (order_id, customer_id, pizza_id, exclusions, extras, order_time))\n",
    "FROM pizza_runner.customer_orders;"
   ]
  },
  {
   "cell_type": "markdown",
   "metadata": {},
   "source": [
    "| count |\n",
    "| ----- |\n",
    "| 13    |\n",
    "#### 3. How many successful orders were delivered by each runner?"
   ]
  },
  {
   "cell_type": "code",
   "execution_count": null,
   "metadata": {
    "vscode": {
     "languageId": "plaintext"
    }
   },
   "outputs": [],
   "source": [
    "SELECT COUNT(*)\n",
    "FROM pizza_runner.runner_orders\n",
    "WHERE cancellation ISNULL;"
   ]
  },
  {
   "cell_type": "markdown",
   "metadata": {},
   "source": [
    "| count |\n",
    "| ----- |\n",
    "| 8     |\n"
   ]
  },
  {
   "cell_type": "markdown",
   "metadata": {},
   "source": [
    "#### 4. How many of each type of pizza was delivered? "
   ]
  },
  {
   "cell_type": "code",
   "execution_count": null,
   "metadata": {
    "vscode": {
     "languageId": "plaintext"
    }
   },
   "outputs": [],
   "source": [
    "SELECT pizza_id, COUNT(*)\n",
    "FROM pizza_runner.customer_orders c\n",
    "JOIN pizza_runner.runner_orders r\n",
    "\tON r.order_id = c.order_id\n",
    "WHERE cancellation IS NULL\n",
    "GROUP BY pizza_id;"
   ]
  },
  {
   "cell_type": "markdown",
   "metadata": {},
   "source": [
    "| pizza_id | count |\n",
    "| -------- | ----- |\n",
    "| 1        | 9     |\n",
    "| 2        | 3     |\n",
    "#### 5. How many Vegetarian and Meatlovers were ordered by each customer?"
   ]
  },
  {
   "cell_type": "code",
   "execution_count": null,
   "metadata": {
    "vscode": {
     "languageId": "plaintext"
    }
   },
   "outputs": [],
   "source": [
    "SELECT customer_id, pizza_name, COUNT(*)\n",
    "FROM pizza_runner.customer_orders c\n",
    "JOIN pizza_runner.pizza_names p\n",
    "\tON c.pizza_id = p.pizza_id\n",
    "GROUP BY customer_id, pizza_name\n",
    "ORDER BY customer_id ASC;"
   ]
  },
  {
   "cell_type": "markdown",
   "metadata": {},
   "source": [
    "| customer_id | pizza_name | count |\n",
    "| ----------- | ---------- | ----- |\n",
    "| 101         | Meatlovers | 2     |\n",
    "| 101         | Vegetarian | 1     |\n",
    "| 102         | Meatlovers | 2     |\n",
    "| 102         | Vegetarian | 1     |\n",
    "| 103         | Meatlovers | 3     |\n",
    "| 103         | Vegetarian | 1     |\n",
    "| 104         | Meatlovers | 3     |\n",
    "| 105         | Vegetarian | 1     |\n",
    "#### 6. What was the maximum number of pizzas delivered in a single order?"
   ]
  },
  {
   "cell_type": "code",
   "execution_count": null,
   "metadata": {
    "vscode": {
     "languageId": "plaintext"
    }
   },
   "outputs": [],
   "source": [
    "SELECT MAX(pizza_count) AS max_pizzas_at_once\n",
    "FROM (\n",
    "  SELECT order_time, COUNT(*) AS pizza_count\n",
    "  FROM pizza_runner.customer_orders\n",
    "  GROUP BY order_time\n",
    "  ) AS t;"
   ]
  },
  {
   "cell_type": "markdown",
   "metadata": {},
   "source": [
    "| max_pizzas_at_once |\n",
    "| ------------------ |\n",
    "| 3                  |\n",
    "#### 7. For each customer, how many delivered pizzas had at least 1 change and how many had no changes?"
   ]
  },
  {
   "cell_type": "code",
   "execution_count": null,
   "metadata": {
    "vscode": {
     "languageId": "plaintext"
    }
   },
   "outputs": [],
   "source": [
    "SELECT pizza_id, COUNT(*)\n",
    "FROM pizza_runner.customer_orders c\n",
    "JOIN pizza_runner.runner_orders r\n",
    "\tON r.order_id = c.order_id\n",
    "WHERE cancellation IS NULL\n",
    "GROUP BY pizza_id;"
   ]
  },
  {
   "cell_type": "markdown",
   "metadata": {},
   "source": [
    "| without_changes | with_changes |\n",
    "| --------------- | ------------ |\n",
    "| 7               | 7            |\n",
    "#### 8. How many pizzas were delivered that had both exclusions and extras?"
   ]
  },
  {
   "cell_type": "code",
   "execution_count": null,
   "metadata": {
    "vscode": {
     "languageId": "plaintext"
    }
   },
   "outputs": [],
   "source": [
    "SELECT COUNT(*) AS exclusions_and_extras\n",
    "FROM pizza_runner.customer_orders c\n",
    "JOIN pizza_runner.runner_orders r\n",
    "\tON c.order_id = r.order_id\n",
    "WHERE r.cancellation IS NULL\n",
    "\tAND exclusions IS NOT NULL\n",
    "    AND extras IS NOT NULL;"
   ]
  },
  {
   "cell_type": "markdown",
   "metadata": {},
   "source": [
    "| exclusions_and_extras |\n",
    "| --------------------- |\n",
    "| 1                     |\n",
    "#### 9. What was the total volume of pizzas ordered for each hour of the day?"
   ]
  },
  {
   "cell_type": "code",
   "execution_count": null,
   "metadata": {
    "vscode": {
     "languageId": "plaintext"
    }
   },
   "outputs": [],
   "source": [
    "SELECT EXTRACT(HOUR FROM order_time)::INTEGER AS time_of_day,\n",
    "\tCOUNT(*) AS pizzas_ordered\n",
    "FROM pizza_runner.customer_orders\n",
    "GROUP BY time_of_day\n",
    "ORDER BY time_of_day;"
   ]
  },
  {
   "cell_type": "markdown",
   "metadata": {},
   "source": [
    "\n",
    "#### 10. What was the volume of orders for each day of the week?"
   ]
  },
  {
   "cell_type": "code",
   "execution_count": null,
   "metadata": {
    "vscode": {
     "languageId": "plaintext"
    }
   },
   "outputs": [],
   "source": [
    "SELECT EXTRACT(DOW FROM order_time)::INTEGER AS day_of_week,\n",
    "\tCOUNT(*) AS pizzas_ordered\n",
    "FROM pizza_runner.customer_orders\n",
    "GROUP BY day_of_week\n",
    "ORDER BY day_of_week;"
   ]
  },
  {
   "cell_type": "markdown",
   "metadata": {},
   "source": [
    "| day_of_week | pizzas_ordered |\n",
    "| ----------- | -------------- |\n",
    "| 3           | 5              |\n",
    "| 4           | 3              |\n",
    "| 5           | 1              |\n",
    "| 6           | 5              |\n",
    "### Runner and Customer Experience\n",
    "#### 1. How many runners signed up for each 1 week period? (i.e. week starts 2021-01-01)"
   ]
  },
  {
   "cell_type": "code",
   "execution_count": null,
   "metadata": {
    "vscode": {
     "languageId": "plaintext"
    }
   },
   "outputs": [],
   "source": [
    "SELECT (registration_date::date - ((registration_date::date - DATE '2021-01-01') % 7)) AS week_start, COUNT(*) AS runner_signups\n",
    "FROM runners\n",
    "GROUP BY week_start\n",
    "ORDER BY week_start ASC;"
   ]
  },
  {
   "cell_type": "markdown",
   "metadata": {},
   "source": [
    "| week_start | runner_signups |\n",
    "| ---------- | -------------- |\n",
    "| 2021-01-01 | 2              |\n",
    "| 2021-01-08 | 1              |\n",
    "| 2021-01-15 | 1              |\n",
    "#### 2. What was the average time in minutes it took for each runner to arrive at the Pizza Runner HQ to pickup the order?"
   ]
  },
  {
   "cell_type": "code",
   "execution_count": null,
   "metadata": {
    "vscode": {
     "languageId": "plaintext"
    }
   },
   "outputs": [],
   "source": [
    "SELECT\n",
    "\tROUND(AVG(EXTRACT(EPOCH FROM pickup_time - order_time)/60)) AS avg_pickup_interval\n",
    "FROM customer_orders c\n",
    "JOIN runner_orders r\n",
    "\tON c.order_id = r.order_id;"
   ]
  },
  {
   "cell_type": "markdown",
   "metadata": {},
   "source": [
    "| avg_pickup_interval |\n",
    "| ------------------- |\n",
    "| 19                  |\n",
    "#### 3. Is there any relationship between the number of pizzas and how long the order takes to prepare?\n",
    "##### ASSUMPTION: \n",
    "Pizzas are picked up as soon as they are prepared. If this assumption is not true, the data has to contain a timestamp for when the pizzas are actually prepped."
   ]
  },
  {
   "cell_type": "code",
   "execution_count": null,
   "metadata": {
    "vscode": {
     "languageId": "plaintext"
    }
   },
   "outputs": [],
   "source": [
    "WITH order_stats AS (\n",
    "  SELECT\n",
    "    c.order_id,\n",
    "    COUNT(*) AS num_pizzas,\n",
    "    MAX(r.pickup_time)  \n",
    "      - MIN(c.order_time) AS prep_time\n",
    "  FROM pizza_runner.customer_orders c\n",
    "  JOIN pizza_runner.runner_orders r\n",
    "    ON c.order_id = r.order_id\n",
    "  WHERE r.pickup_time IS NOT NULL     -- only delivered orders\n",
    "  GROUP BY c.order_id\n",
    ")\n",
    "SELECT\n",
    "  num_pizzas,\n",
    "  AVG(prep_time) AS avg_prep_time\n",
    "FROM order_stats\n",
    "GROUP BY num_pizzas\n",
    "ORDER BY num_pizzas;"
   ]
  },
  {
   "cell_type": "markdown",
   "metadata": {},
   "source": [
    "| num_pizzas | avg_prep_time | median_prep_time |\n",
    "| ---------- | ------------- | ---------------- |\n",
    "| 1          | 00:12:21.4    | 00:10:28         |\n",
    "| 2          | 00:18:22.5    | 00:18:22.5       |\n",
    "| 3          | 00:29:17      | 00:29:17         |\n",
    "\n",
    "Yes, orders with more pizzas tend to take significantly longer to prepare. \n",
    "#### 4. What was the average distance travelled for each customer?"
   ]
  },
  {
   "cell_type": "code",
   "execution_count": null,
   "metadata": {
    "vscode": {
     "languageId": "plaintext"
    }
   },
   "outputs": [],
   "source": [
    "SELECT \n",
    "\tc.customer_id,\n",
    "  \tROUND(AVG(r.distance), 2)\n",
    "FROM pizza_runner.customer_orders c\n",
    "JOIN pizza_runner.runner_orders r\n",
    "\tON c.order_id = r.order_id\n",
    "WHERE r.cancellation IS NULL\n",
    "GROUP BY c.customer_id\n",
    "ORDER BY c.customer_id;"
   ]
  },
  {
   "cell_type": "markdown",
   "metadata": {},
   "source": [
    "| customer_id | round |\n",
    "| ----------- | ----- |\n",
    "| 101         | 20.00 |\n",
    "| 102         | 16.73 |\n",
    "| 103         | 23.40 |\n",
    "| 104         | 10.00 |\n",
    "| 105         | 25.00 |\n",
    "#### 5. What was the difference between the longest and shortest delivery times for all orders?"
   ]
  },
  {
   "cell_type": "code",
   "execution_count": null,
   "metadata": {
    "vscode": {
     "languageId": "plaintext"
    }
   },
   "outputs": [],
   "source": [
    "SELECT\n",
    "\tMAX(duration) - MIN(duration) AS duration_range\n",
    "FROM pizza_runner.runner_orders;"
   ]
  },
  {
   "cell_type": "markdown",
   "metadata": {},
   "source": [
    "| duration_range |\n",
    "| -------------- |\n",
    "| 30             |\n",
    "#### 6. What was the average speed for each runner and do you notice any trend for these values?"
   ]
  },
  {
   "cell_type": "code",
   "execution_count": null,
   "metadata": {
    "vscode": {
     "languageId": "plaintext"
    }
   },
   "outputs": [],
   "source": [
    "SELECT \n",
    "\trunner_id, \n",
    "    ROUND(SUM(distance) / SUM(duration), 2) AS average_rate\n",
    "FROM pizza_runner.runner_orders\n",
    "WHERE cancellation IS NULL\n",
    "GROUP BY runner_id;"
   ]
  },
  {
   "cell_type": "markdown",
   "metadata": {},
   "source": [
    "| runner_id | average_rate |\n",
    "| --------- | ------------ |\n",
    "| 1         | 0.71         |\n",
    "| 2         | 0.90         |\n",
    "| 3         | 0.67         |\n",
    "\n",
    "Runner 2 has a significantly higher average rate than the other runners.\n",
    "#### 7. What is the successful delivery percentage for each runner?"
   ]
  },
  {
   "cell_type": "code",
   "execution_count": null,
   "metadata": {
    "vscode": {
     "languageId": "plaintext"
    }
   },
   "outputs": [],
   "source": [
    "SELECT\n",
    "  runner_id,\n",
    "  format(\n",
    "    '%s%%',\n",
    "    ROUND(AVG((cancellation IS NULL)::int) * 100, 2)\n",
    "  ) AS success_rate\n",
    "FROM pizza_runner.runner_orders\n",
    "GROUP BY runner_id\n",
    "ORDER BY runner_id;"
   ]
  },
  {
   "cell_type": "markdown",
   "metadata": {},
   "source": [
    "| runner_id | success_rate |\n",
    "| --------- | ------------ |\n",
    "| 1         | 100.00%      |\n",
    "| 2         | 75.00%       |\n",
    "| 3         | 50.00%       |\n",
    "### Ingredient Optimization\n",
    "#### 1. What are the standard ingredients for each pizza?"
   ]
  },
  {
   "cell_type": "code",
   "execution_count": null,
   "metadata": {
    "vscode": {
     "languageId": "plaintext"
    }
   },
   "outputs": [],
   "source": [
    "SELECT\n",
    "\tp.pizza_name,\n",
    "    t.topping_name\n",
    "FROM pizza_runner.pizza_names p\n",
    "JOIN pizza_runner.pizza_recipes pr\n",
    "\tON p.pizza_id = pr.pizza_id\n",
    "JOIN LATERAL unnest(string_to_array(pr.toppings, ',')) AS tid(topping_id_text)\n",
    "\tON TRUE\n",
    "JOIN pizza_runner.pizza_toppings t\n",
    "\tON t.topping_id = tid.topping_id_text::INT\n",
    "ORDER BY p.pizza_name, t.topping_name;"
   ]
  },
  {
   "cell_type": "markdown",
   "metadata": {},
   "source": [
    "| pizza_name | topping_name |\n",
    "| ---------- | ------------ |\n",
    "| Meatlovers | BBQ Sauce    |\n",
    "| Meatlovers | Bacon        |\n",
    "| Meatlovers | Beef         |\n",
    "| Meatlovers | Cheese       |\n",
    "| Meatlovers | Chicken      |\n",
    "| Meatlovers | Mushrooms    |\n",
    "| Meatlovers | Pepperoni    |\n",
    "| Meatlovers | Salami       |\n",
    "| Vegetarian | Cheese       |\n",
    "| Vegetarian | Mushrooms    |\n",
    "| Vegetarian | Onions       |\n",
    "| Vegetarian | Peppers      |\n",
    "| Vegetarian | Tomato Sauce |\n",
    "| Vegetarian | Tomatoes     |\n",
    "#### 2. What was the most commonly added extra?"
   ]
  },
  {
   "cell_type": "code",
   "execution_count": null,
   "metadata": {
    "vscode": {
     "languageId": "plaintext"
    }
   },
   "outputs": [],
   "source": [
    "SELECT \n",
    "\tpt.topping_name,\n",
    "    COUNT(*) AS count\n",
    "FROM pizza_runner.customer_orders c\n",
    "JOIN LATERAL unnest(\n",
    "\tstring_to_array(\n",
    "\t\tc.extras, ',')\n",
    "\t) AS tid(topping_id_text)\n",
    "\tON TRUE\n",
    "JOIN pizza_runner.pizza_toppings pt\n",
    "\tON pt.topping_id = tid.topping_id_text::INT\n",
    "GROUP BY pt.topping_name\n",
    "ORDER BY count DESC\n",
    "LIMIT 1;"
   ]
  },
  {
   "cell_type": "markdown",
   "metadata": {},
   "source": [
    "| topping_name | count |\n",
    "| ------------ | ----- |\n",
    "| Bacon        | 4     |\n",
    "#### 3. What was the most common exclusion?"
   ]
  },
  {
   "cell_type": "code",
   "execution_count": null,
   "metadata": {
    "vscode": {
     "languageId": "plaintext"
    }
   },
   "outputs": [],
   "source": [
    "SELECT\n",
    "\tt.topping_name,\n",
    "    COUNT(*) AS count\n",
    "FROM pizza_runner.customer_orders c\n",
    "JOIN LATERAL unnest(\n",
    "    string_to_array(\n",
    "\t\tc.exclusions, ',')\n",
    "\t) AS tid(topping_id_text)\n",
    "\tON TRUE\n",
    "JOIN pizza_runner.pizza_toppings t\n",
    "\tON t.topping_id = tid.topping_id_text::INT\n",
    "GROUP BY t.topping_name\n",
    "ORDER BY count DESC\n",
    "LIMIT 1;"
   ]
  },
  {
   "cell_type": "markdown",
   "metadata": {},
   "source": [
    "| topping_name | count |\n",
    "| ------------ | ----- |\n",
    "| Cheese       | 4     |\n",
    "#### 4. Generate an order item for each record in the customers_orders table in the format of one of the following:\n",
    "\n",
    "    Meat Lovers\n",
    "    Meat Lovers - Exclude Beef\n",
    "    Meat Lovers - Extra Bacon\n",
    "    Meat Lovers - Exclude Cheese, Bacon - Extra Mushroom, Peppers\n"
   ]
  },
  {
   "cell_type": "code",
   "execution_count": null,
   "metadata": {
    "vscode": {
     "languageId": "plaintext"
    }
   },
   "outputs": [],
   "source": [
    "WITH excl_list AS (\n",
    "  \tSELECT\n",
    "  \t\tc.order_line_id,\n",
    "  \t\tstring_agg(\n",
    "          \tpt.topping_name,\n",
    "          \t', ' \n",
    "          \tORDER BY pt.topping_name\n",
    "        ) AS excl_list\n",
    "  \tFROM pizza_runner.customer_orders c\n",
    "  \tJOIN LATERAL unnest(\n",
    "      \tstring_to_array(c.exclusions, ',')\n",
    "    ) AS tid(topping_text)\n",
    "    \tON TRUE\n",
    "  \tJOIN pizza_runner.pizza_toppings pt\n",
    "  \t\tON pt.topping_id = tid.topping_text::INT\n",
    "    GROUP BY c.order_line_id\n",
    "), \n",
    "extr_list AS (\n",
    "  \tSELECT \n",
    "  \t\tc.order_line_id,\n",
    "  \t\tstring_agg(\n",
    "          \tpt.topping_name, \n",
    "          \t', ' \n",
    "          \tORDER BY pt.topping_name\n",
    "        ) AS extr_list\n",
    "  \tFROM pizza_runner.customer_orders c\n",
    "  \tJOIN LATERAL unnest(\n",
    "      \tstring_to_array(c.extras, ',')\n",
    "    ) AS tid(topping_id_text)\n",
    "  \t\tON TRUE\n",
    "  \tJOIN pizza_runner.pizza_toppings pt\n",
    "  \t\tON pt.topping_id = tid.topping_id_text::INT\n",
    "  \tGROUP BY c.order_line_id\n",
    ")\n",
    "\n",
    "SELECT\n",
    "\tc.order_line_id,\n",
    "    pn.pizza_name,\n",
    "    COALESCE(excl.excl_list, '') AS exclusions_list,\n",
    "    COALESCE(extr.extr_list, '') AS extras_list,\n",
    "    CONCAT_WS(\n",
    "      \t' - ',\n",
    "      \tpn.pizza_name,\n",
    "      \tNULLIF('Exclude ' || excl.excl_list, 'Exclude '),\n",
    "      \tNULLIF('Extra ' || extr.extr_list, 'Extra ')\n",
    "    ) AS order_description\n",
    "FROM pizza_runner.customer_orders c\n",
    "JOIN pizza_runner.pizza_names pn\n",
    "\tON c.pizza_id = pn.pizza_id\n",
    "LEFT JOIN excl_list excl\n",
    "\tON c.order_line_id = excl.order_line_id\n",
    "LEFT JOIN extr_list extr\n",
    "\tON c.order_line_id = extr.order_line_id\n",
    "ORDER BY order_line_id;"
   ]
  },
  {
   "cell_type": "markdown",
   "metadata": {},
   "source": [
    "| order_line_id | pizza_name | exclusions_list      | extras_list    | order_description                                               |\n",
    "| ------------- | ---------- | -------------------- | -------------- | --------------------------------------------------------------- |\n",
    "| 1             | Meatlovers |                      |                | Meatlovers                                                      |\n",
    "| 2             | Meatlovers |                      |                | Meatlovers                                                      |\n",
    "| 3             | Meatlovers |                      |                | Meatlovers                                                      |\n",
    "| 4             | Vegetarian |                      |                | Vegetarian                                                      |\n",
    "| 5             | Meatlovers | Cheese               |                | Meatlovers - Exclude Cheese                                     |\n",
    "| 6             | Meatlovers | Cheese               |                | Meatlovers - Exclude Cheese                                     |\n",
    "| 7             | Vegetarian | Cheese               |                | Vegetarian - Exclude Cheese                                     |\n",
    "| 8             | Meatlovers |                      | Bacon          | Meatlovers - Extra Bacon                                        |\n",
    "| 9             | Vegetarian |                      |                | Vegetarian                                                      |\n",
    "| 10            | Vegetarian |                      | Bacon          | Vegetarian - Extra Bacon                                        |\n",
    "| 11            | Meatlovers |                      |                | Meatlovers                                                      |\n",
    "| 12            | Meatlovers | Cheese               | Bacon, Chicken | Meatlovers - Exclude Cheese - Extra Bacon, Chicken              |\n",
    "| 13            | Meatlovers |                      |                | Meatlovers                                                      |\n",
    "| 14            | Meatlovers | BBQ Sauce, Mushrooms | Bacon, Cheese  | Meatlovers - Exclude BBQ Sauce, Mushrooms - Extra Bacon, Cheese |\n",
    "#### 5. Generate an alphabetically ordered comma separated ingredient list for each pizza order from the customer_orders table and add a 2x in front of any relevant ingredients\n",
    "\n",
    "    For example: \"Meat Lovers: 2xBacon, Beef, ... , Salami\""
   ]
  },
  {
   "cell_type": "code",
   "execution_count": null,
   "metadata": {
    "vscode": {
     "languageId": "plaintext"
    }
   },
   "outputs": [],
   "source": [
    "WITH parsed AS (\n",
    "  \tSELECT \n",
    "  \t\tc.order_line_id,\n",
    "  \t\tpn.pizza_name,\n",
    "  \t\tCOALESCE(string_to_array(pr.toppings, ',')::integer[], '{}'::integer[])\n",
    "\t\t\tAS recipe_tops,\n",
    "  \t\tCOALESCE(string_to_array(c.exclusions, ',')::integer[], '{}'::integer[])\n",
    "  \t\t\tAS excl_tops,\n",
    "  \t\tCOALESCE(string_to_array(c.extras, ',')::integer[], '{}'::integer[])\n",
    "  \t\t\tAS extra_tops\n",
    "  \tFROM pizza_runner.customer_orders c\n",
    "    JOIN pizza_runner.pizza_names pn\n",
    "    \tON c.pizza_id = pn.pizza_id\n",
    "    JOIN pizza_runner.pizza_recipes pr\n",
    "    \tON c.pizza_id = pr.pizza_id\n",
    "),\n",
    "recipe_exploded AS (\n",
    "\tSELECT\n",
    "    \torder_line_id,\n",
    "        pizza_name,\n",
    "        rid.topping_id,\n",
    "        extra_tops,\n",
    "  \t\tTRUE AS is_recipe\n",
    "   \tFROM parsed\n",
    "    CROSS JOIN LATERAL unnest(parsed.recipe_tops)\n",
    "    \tAS rid(topping_id)\n",
    "    WHERE NOT (rid.topping_id = ANY(parsed.excl_tops))\n",
    "),\n",
    "extras_only AS (\n",
    "  \tSELECT\n",
    "  \t\torder_line_id,\n",
    "  \t\tpizza_name,\n",
    "  \t\text.topping_id,\n",
    "  \t\textra_tops,\n",
    "        FALSE AS is_recipe\n",
    "  \tFROM parsed\n",
    "  \tCROSS JOIN LATERAL unnest(parsed.extra_tops)\n",
    "  \t\tAS ext(topping_id)\n",
    "  \tWHERE NOT (ext.topping_id = ANY(parsed.recipe_tops))\n",
    "),\n",
    "all_toppings AS (\n",
    "  \tSELECT * FROM recipe_exploded\n",
    "  \tUNION ALL\n",
    "  \tSELECT * FROM extras_only\n",
    ")\n",
    "\n",
    "SELECT\n",
    "\ta.order_line_id,\n",
    "    a.pizza_name,\n",
    "    string_agg(\n",
    "      \tCASE\n",
    "      \t\tWHEN a.is_recipe\n",
    "      \t\t\t\tAND a.topping_id = ANY(a.extra_tops)\n",
    "\t\t\t\tTHEN '2x ' || pt.topping_name\n",
    "      \t\tELSE pt.topping_name\n",
    "      \tEND,\n",
    "      \t', ' ORDER BY pt.topping_name\n",
    "    ) AS ingredient_list\n",
    "FROM all_toppings a\n",
    "JOIN pizza_runner.pizza_toppings pt\n",
    "\tON pt.topping_id = a.topping_id\n",
    "GROUP BY a.order_line_id, a.pizza_name\n",
    "ORDER BY a.order_line_id, a.pizza_name;"
   ]
  },
  {
   "cell_type": "markdown",
   "metadata": {},
   "source": [
    "| order_line_id | pizza_name | ingredient_list                                                          |\n",
    "| ------------- | ---------- | ------------------------------------------------------------------------ |\n",
    "| 1             | Meatlovers | BBQ Sauce, Bacon, Beef, Cheese, Chicken, Mushrooms, Pepperoni, Salami    |\n",
    "| 2             | Meatlovers | BBQ Sauce, Bacon, Beef, Cheese, Chicken, Mushrooms, Pepperoni, Salami    |\n",
    "| 3             | Meatlovers | BBQ Sauce, Bacon, Beef, Cheese, Chicken, Mushrooms, Pepperoni, Salami    |\n",
    "| 4             | Vegetarian | Cheese, Mushrooms, Onions, Peppers, Tomato Sauce, Tomatoes               |\n",
    "| 5             | Meatlovers | BBQ Sauce, Bacon, Beef, Chicken, Mushrooms, Pepperoni, Salami            |\n",
    "| 6             | Meatlovers | BBQ Sauce, Bacon, Beef, Chicken, Mushrooms, Pepperoni, Salami            |\n",
    "| 7             | Vegetarian | Mushrooms, Onions, Peppers, Tomato Sauce, Tomatoes                       |\n",
    "| 8             | Meatlovers | BBQ Sauce, 2x Bacon, Beef, Cheese, Chicken, Mushrooms, Pepperoni, Salami |\n",
    "| 9             | Vegetarian | Cheese, Mushrooms, Onions, Peppers, Tomato Sauce, Tomatoes               |\n",
    "| 10            | Vegetarian | Bacon, Cheese, Mushrooms, Onions, Peppers, Tomato Sauce, Tomatoes        |\n",
    "| 11            | Meatlovers | BBQ Sauce, Bacon, Beef, Cheese, Chicken, Mushrooms, Pepperoni, Salami    |\n",
    "| 12            | Meatlovers | BBQ Sauce, 2x Bacon, Beef, 2x Chicken, Mushrooms, Pepperoni, Salami      |\n",
    "| 13            | Meatlovers | BBQ Sauce, Bacon, Beef, Cheese, Chicken, Mushrooms, Pepperoni, Salami    |\n",
    "| 14            | Meatlovers | 2x Bacon, Beef, 2x Cheese, Chicken, Pepperoni, Salami                    |\n",
    "#### 6. What is the total quantity of each ingredient used in all delivered pizzas sorted by most frequent first?"
   ]
  },
  {
   "cell_type": "code",
   "execution_count": null,
   "metadata": {
    "vscode": {
     "languageId": "plaintext"
    }
   },
   "outputs": [],
   "source": [
    "WITH parsed AS (\n",
    "  \tSELECT\n",
    "  \t\tc.order_line_id,\n",
    "  \t\tCOALESCE(string_to_array(pr.toppings, ',')::integer[],\n",
    "                 '{}'::integer[]) AS recipe_tops,\n",
    "  \t\tCOALESCE(string_to_array(c.exclusions, ',')::integer[],\n",
    "                 '{}'::integer[]) AS excl_tops,\n",
    "  \t\tCOALESCE(string_to_array(c.extras, ',')::integer[],\n",
    "                 '{}'::integer[]) AS extra_tops\n",
    "  \tFROM pizza_runner.customer_orders c\n",
    "  \tJOIN pizza_runner.pizza_recipes pr\n",
    "  \t\tON pr.pizza_id = c.pizza_id\n",
    "  \tJOIN pizza_runner.runner_orders r\n",
    "  \t\tON c.order_id = r.order_id\n",
    "  \tWHERE r.cancellation IS NULL\n",
    "),\n",
    "all_toppings AS (\n",
    "    SELECT\n",
    "        order_line_id,\n",
    "        rid.topping_id\n",
    "    FROM parsed\n",
    "    CROSS JOIN LATERAL unnest(parsed.recipe_tops)\n",
    "    \tAS rid(topping_id)\n",
    "    WHERE NOT (rid.topping_id = ANY(parsed.excl_tops))\n",
    "    UNION ALL\n",
    "\tSELECT\n",
    "  \t\torder_line_id,\n",
    "  \t\text.topping_id\n",
    "  \tFROM parsed\n",
    "  \tCROSS JOIN LATERAL unnest(parsed.extra_tops)\n",
    "  \t\tAS ext(topping_id)\n",
    ")\n",
    "SELECT\n",
    "\tpt.topping_name,\n",
    "    COUNT(*) quantity\n",
    "FROM all_toppings a\n",
    "JOIN pizza_runner.pizza_toppings pt\n",
    "\tON a.topping_id = pt.topping_id\n",
    "GROUP BY pt.topping_name\n",
    "ORDER BY quantity DESC;"
   ]
  },
  {
   "cell_type": "markdown",
   "metadata": {},
   "source": [
    "| topping_name | quantity |\n",
    "| ------------ | -------- |\n",
    "| Bacon        | 12       |\n",
    "| Mushrooms    | 11       |\n",
    "| Cheese       | 10       |\n",
    "| Pepperoni    | 9        |\n",
    "| Chicken      | 9        |\n",
    "| Salami       | 9        |\n",
    "| Beef         | 9        |\n",
    "| BBQ Sauce    | 8        |\n",
    "| Tomato Sauce | 3        |\n",
    "| Onions       | 3        |\n",
    "| Tomatoes     | 3        |\n",
    "| Peppers      | 3        |\n",
    "### Pricing and Ratings\n",
    "#### 1. If a Meat Lovers pizza costs \\\\$12 and Vegetarian costs \\\\$10 and there were no charges for changes - how much money has Pizza Runner made so far if there are no delivery fees?"
   ]
  },
  {
   "cell_type": "code",
   "execution_count": null,
   "metadata": {
    "vscode": {
     "languageId": "plaintext"
    }
   },
   "outputs": [],
   "source": [
    "WITH prices as (\n",
    "  \tVALUES (1, 12), (2, 10)\n",
    ")\n",
    "SELECT '$' || SUM(price) AS revenue\n",
    "FROM (\n",
    "  \tSELECT\n",
    "  \t\tc.pizza_id\n",
    "  \tFROM pizza_runner.customer_orders c\n",
    "  \tJOIN pizza_runner.runner_orders r USING(order_id)\n",
    "  \tWHERE r.cancellation IS NULL\n",
    ") AS sub\n",
    "JOIN prices AS p(pizza_id,price) USING(pizza_id);"
   ]
  },
  {
   "cell_type": "markdown",
   "metadata": {},
   "source": [
    "| revenue |\n",
    "| ------- |\n",
    "| $138    |\n",
    "#### 2. What if there was an additional $1 charge for any pizza extras?"
   ]
  },
  {
   "cell_type": "code",
   "execution_count": null,
   "metadata": {
    "vscode": {
     "languageId": "plaintext"
    }
   },
   "outputs": [],
   "source": [
    "WITH prices as (\n",
    "  \tVALUES (1, 12), (2, 10)\n",
    ")\n",
    "SELECT '$' || SUM(price +\n",
    "           extra_cnt\n",
    "          ) AS revenue\n",
    "FROM (\n",
    "  \tSELECT\n",
    "  \t\tpizza_id,\n",
    "  \t\tCOALESCE(array_length(string_to_array(extras, ',')::integer[], 1),\n",
    "                 0) AS extra_cnt\n",
    "  \tFROM pizza_runner.customer_orders c\n",
    "  \tJOIN pizza_runner.runner_orders r USING(order_id)\n",
    "  \tWHERE r.cancellation IS NULL\n",
    ") AS sub\n",
    "JOIN prices AS p(pizza_id, price) USING(pizza_id);"
   ]
  },
  {
   "cell_type": "markdown",
   "metadata": {},
   "source": [
    "| revenue |\n",
    "| ------- |\n",
    "| $142    |\n",
    "#### 3. The Pizza Runner team now wants to add an additional ratings system that allows customers to rate their runner, how would you design an additional table for this new dataset - generate a schema for this new table and insert your own data for ratings for each successful customer order between 1 to 5."
   ]
  },
  {
   "cell_type": "code",
   "execution_count": null,
   "metadata": {
    "vscode": {
     "languageId": "plaintext"
    }
   },
   "outputs": [],
   "source": [
    "DROP TABLE IF EXISTS runner_ratings;\n",
    "CREATE TABLE runner_ratings (\n",
    "  \"order_id\" INTEGER,\n",
    "  \"rating\" INTEGER\n",
    ");\n",
    "INSERT INTO runner_ratings\n",
    "  (\"order_id\", \"rating\")\n",
    "VALUES\n",
    "  (1, 5),\n",
    "  (2, 4),\n",
    "  (3, 5),\n",
    "  (4, 2),\n",
    "  (5, 4),\n",
    "  (7, 4),\n",
    "  (8, 5),\n",
    "  (10, 3);"
   ]
  },
  {
   "cell_type": "markdown",
   "metadata": {},
   "source": [
    "#### 4. Using your newly generated table - can you join all of the information together to form a table which has the following information for successful deliveries?\n",
    "\n",
    "    customer_id\n",
    "    order_id\n",
    "    runner_id\n",
    "    rating\n",
    "    order_time\n",
    "    pickup_time\n",
    "    Time between order and pickup\n",
    "    Delivery duration\n",
    "    Average speed\n",
    "    Total number of pizzas"
   ]
  },
  {
   "cell_type": "code",
   "execution_count": null,
   "metadata": {
    "vscode": {
     "languageId": "plaintext"
    }
   },
   "outputs": [],
   "source": [
    "WITH order_lines AS (\n",
    "  \tSELECT \n",
    "  \t\torder_id,\n",
    "  \t\tCOUNT(*)\n",
    "  \tFROM pizza_runner.customer_orders c\n",
    "  \tJOIN pizza_runner.runner_orders r USING(order_id)\n",
    "  \tWHERE r.cancellation IS NULL\n",
    "  \tGROUP BY order_id\n",
    ")\n",
    "SELECT\n",
    "\tcustomer_id,\n",
    "    order_id,\n",
    "    runner_id,\n",
    "    rating,\n",
    "    order_time,\n",
    "    pickup_time,\n",
    "    pickup_time - order_time AS prep_time,\n",
    "    duration,\n",
    "    ROUND(distance / duration, 2) AS avg_speed,\n",
    "    o.count AS pizza_qty\n",
    "FROM pizza_runner.customer_orders c\n",
    "JOIN pizza_runner.runner_orders r USING(order_id)\n",
    "JOIN order_lines o USING(order_id)\n",
    "JOIN pizza_runner.runner_ratings USING(order_id)\n",
    "WHERE r.cancellation IS NULL;"
   ]
  },
  {
   "cell_type": "markdown",
   "metadata": {},
   "source": [
    "| customer_id | order_id | runner_id | rating | order_time          | pickup_time         | prep_time | duration | avg_speed | pizza_qty |\n",
    "| ----------- | -------- | --------- | ------ | ------------------- | ------------------- | --------- | -------- | --------- | --------- |\n",
    "| 101         | 1        | 1         | 5      | 2020-01-01 18:05:02 | 2020-01-01 18:15:34 | 00:10:32  | 32       | 0.63      | 1         |\n",
    "| 101         | 2        | 1         | 4      | 2020-01-01 19:00:52 | 2020-01-01 19:10:54 | 00:10:02  | 27       | 0.74      | 1         |\n",
    "| 102         | 3        | 1         | 5      | 2020-01-02 23:51:23 | 2020-01-03 00:12:37 | 00:21:14  | 20       | 0.67      | 2         |\n",
    "| 102         | 3        | 1         | 5      | 2020-01-02 23:51:23 | 2020-01-03 00:12:37 | 00:21:14  | 20       | 0.67      | 2         |\n",
    "| 103         | 4        | 2         | 2      | 2020-01-04 13:23:46 | 2020-01-04 13:53:03 | 00:29:17  | 40       | 0.59      | 3         |\n",
    "| 103         | 4        | 2         | 2      | 2020-01-04 13:23:46 | 2020-01-04 13:53:03 | 00:29:17  | 40       | 0.59      | 3         |\n",
    "| 103         | 4        | 2         | 2      | 2020-01-04 13:23:46 | 2020-01-04 13:53:03 | 00:29:17  | 40       | 0.59      | 3         |\n",
    "| 104         | 5        | 3         | 4      | 2020-01-08 21:00:29 | 2020-01-08 21:10:57 | 00:10:28  | 15       | 0.67      | 1         |\n",
    "| 105         | 7        | 2         | 4      | 2020-01-08 21:20:29 | 2020-01-08 21:30:45 | 00:10:16  | 25       | 1.00      | 1         |\n",
    "| 102         | 8        | 2         | 5      | 2020-01-09 23:54:33 | 2020-01-10 00:15:02 | 00:20:29  | 15       | 1.56      | 1         |\n",
    "| 104         | 10       | 1         | 3      | 2020-01-11 18:34:49 | 2020-01-11 18:50:20 | 00:15:31  | 10       | 1.00      | 2         |\n",
    "| 104         | 10       | 1         | 3      | 2020-01-11 18:34:49 | 2020-01-11 18:50:20 | 00:15:31  | 10       | 1.00      | 2         |\n",
    "#### 5. If a Meat Lovers pizza was \\\\$12 and Vegetarian \\\\$10 fixed prices with no cost for extras and each runner is paid \\\\$0.30 per kilometre traveled - how much money does Pizza Runner have left over after these deliveries?"
   ]
  },
  {
   "cell_type": "code",
   "execution_count": null,
   "metadata": {
    "vscode": {
     "languageId": "plaintext"
    }
   },
   "outputs": [],
   "source": [
    "WITH prices as (\n",
    "  \tVALUES (1, 12), (2, 10)\n",
    ")\n",
    "SELECT '$' || SUM(price) - ROUND(SUM(distance * 0.3),2) AS profit\n",
    "FROM (\n",
    "  \tSELECT\n",
    "  \t\tc.pizza_id,\n",
    "  \t\tdistance\n",
    "  \tFROM pizza_runner.customer_orders c\n",
    "  \tJOIN pizza_runner.runner_orders r USING(order_id)\n",
    "  \tWHERE r.cancellation IS NULL\n",
    ") AS sub\n",
    "JOIN prices AS p(pizza_id,price) USING(pizza_id);"
   ]
  },
  {
   "cell_type": "markdown",
   "metadata": {},
   "source": [
    "| profit |\n",
    "| ------ |\n",
    "| $73.38 |"
   ]
  }
 ],
 "metadata": {
  "language_info": {
   "name": "python"
  }
 },
 "nbformat": 4,
 "nbformat_minor": 2
}
