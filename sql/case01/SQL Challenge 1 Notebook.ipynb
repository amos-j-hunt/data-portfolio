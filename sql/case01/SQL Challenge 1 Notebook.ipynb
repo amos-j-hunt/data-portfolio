{
 "cells": [
  {
   "cell_type": "markdown",
   "metadata": {},
   "source": [
    "# SQL Challenge 1 Notebook\n"
   ]
  },
  {
   "cell_type": "markdown",
   "metadata": {},
   "source": [
    "Results can be improved with clarified requirements, information about the membership onboarding flow, and a more complete time-stamp. Lacking this information, I have made and recorded several assumptions about what information is actually desired.\n",
    "    \n",
    "Since it was requested that the results would be accessible on demand, I have structured them as views that can be accessed with very simple queries."
   ]
  },
  {
   "cell_type": "markdown",
   "metadata": {},
   "source": [
    "\n",
    "## Case Study Questions"
   ]
  },
  {
   "cell_type": "markdown",
   "metadata": {},
   "source": [
    "1. What is the total amount each customer spent at the restaurant?"
   ]
  },
  {
   "cell_type": "code",
   "execution_count": null,
   "metadata": {},
   "outputs": [],
   "source": [
    "CREATE VIEW customer_totals_vw AS\n",
    "(\n",
    "  SELECT \n",
    "  \tsales.customer_id AS customer,\n",
    "  \tSUM(menu.price) AS total\n",
    "  FROM dannys_diner.sales sales\n",
    "  LEFT JOIN dannys_diner.menu menu\n",
    "  ON sales.product_id = menu.product_id\n",
    "  GROUP BY customer\n",
    ");\n",
    "\n",
    "SELECT * FROM customer_totals_vw;"
   ]
  },
  {
   "cell_type": "markdown",
   "metadata": {},
   "source": [
    "2. How many days has each customer visited the restaurant?"
   ]
  },
  {
   "cell_type": "code",
   "execution_count": null,
   "metadata": {},
   "outputs": [],
   "source": [
    "CREATE VIEW customer_visits_vw AS (\n",
    "  SELECT customer_id, COUNT(DISTINCT order_date) AS total_visits\n",
    "  FROM dannys_diner.sales\n",
    "  GROUP BY customer_id\n",
    ");\n",
    "\n",
    "SELECT * FROM customer_visits_vw;"
   ]
  },
  {
   "cell_type": "markdown",
   "metadata": {},
   "source": [
    "3. What was the first item from the menu purchased by each customer?\n",
    "ASSUMPTION: sales are listed chronologically in the sales table from earliest to latest."
   ]
  },
  {
   "cell_type": "code",
   "execution_count": null,
   "metadata": {},
   "outputs": [],
   "source": [
    "CREATE VIEW first_product_vw AS\n",
    "(\n",
    "  SELECT DISTINCT ON (customer_id)\n",
    "      sales.customer_id,\n",
    "      menu.product_name\n",
    "  FROM  dannys_diner.sales sales\n",
    "  JOIN dannys_diner.menu menu\n",
    "  ON sales.product_id = menu.product_id\n",
    "  ORDER BY sales.customer_id, sales.order_date, sales.product_id ASC\n",
    ");\n",
    "\n",
    "SELECT * FROM first_product_vw;"
   ]
  },
  {
   "cell_type": "markdown",
   "metadata": {},
   "source": [
    "4. What is the most purchased item on the menu and how many times was it purchased by all customers?"
   ]
  },
  {
   "cell_type": "code",
   "execution_count": null,
   "metadata": {},
   "outputs": [],
   "source": [
    "CREATE VIEW most_popular_vw AS (\n",
    "  SELECT \n",
    "      menu.product_name,\n",
    "      COUNT(*) AS total_purchased\n",
    "  FROM dannys_diner.sales sales\n",
    "  JOIN dannys_diner.menu menu\n",
    "  ON sales.product_id = menu.product_id\n",
    "  GROUP BY menu.product_name\n",
    "  ORDER BY total_purchased DESC\n",
    "  LIMIT 1\n",
    ");\n",
    "\n",
    "SELECT * FROM most_popular_vw;"
   ]
  },
  {
   "cell_type": "markdown",
   "metadata": {},
   "source": [
    "5. Which item was the most popular for each customer?\n",
    "\n",
    "ASSUMPTION: if a customer's most-purchased item is tied across 2 or more items, choose only the first purchased item."
   ]
  },
  {
   "cell_type": "code",
   "execution_count": null,
   "metadata": {},
   "outputs": [],
   "source": [
    "CREATE VIEW popular_per_customer_vw AS(\n",
    "  SELECT \n",
    "      most_purchased.customer_id,\n",
    "      menu.product_name\n",
    "  FROM\n",
    "      (\n",
    "        SELECT DISTINCT ON (customer_id)\n",
    "          customer_id, \n",
    "          product_id,\n",
    "          COUNT(*) AS product_count\n",
    "        FROM dannys_diner.sales\n",
    "        GROUP BY customer_id, product_id\n",
    "        ORDER BY customer_id\n",
    "      ) most_purchased\n",
    "  JOIN dannys_diner.menu menu\n",
    "  ON most_purchased.product_id = menu.product_id\n",
    ");\n",
    "\n",
    "SELECT * FROM popular_per_customer_vw;"
   ]
  },
  {
   "cell_type": "markdown",
   "metadata": {},
   "source": [
    "6. Which item was purchased first by the customer after they became a member?\n",
    "\n",
    "ASSUMPTION: ignore customers who did not become members.\n",
    "\n",
    "ASSUMPTION: ignore items purchased on the date the customer joined."
   ]
  },
  {
   "cell_type": "code",
   "execution_count": null,
   "metadata": {},
   "outputs": [],
   "source": [
    "CREATE VIEW member_first_purchase AS (\n",
    "  SELECT DISTINCT ON (members.customer_id)\n",
    "      members.customer_id,\n",
    "      menu.product_name\n",
    "  FROM dannys_diner.members members\n",
    "  JOIN dannys_diner.sales sales\n",
    "  ON members.customer_id = sales.customer_id\n",
    "  JOIN dannys_diner.menu menu\n",
    "  ON sales.product_id = menu.product_id\n",
    "  WHERE sales.order_date > members.join_date);\n",
    "\n",
    "SELECT * FROM member_first_purchase;"
   ]
  },
  {
   "cell_type": "markdown",
   "metadata": {},
   "source": [
    "7. Which item was purchased just before the customer became a member?\n",
    "\n",
    "ASSUMPTION: include item purchased on the date the member joined."
   ]
  },
  {
   "cell_type": "code",
   "execution_count": null,
   "metadata": {},
   "outputs": [],
   "source": [
    "CREATE VIEW trigger_purchase_vw AS (\n",
    "  SELECT DISTINCT ON (members.customer_id)\n",
    "\tmembers.customer_id,\n",
    "\tmenu.product_name\n",
    "  FROM dannys_diner.members members\n",
    "  JOIN dannys_diner.sales sales\n",
    "  ON members.customer_id = sales.customer_id\n",
    "  JOIN dannys_diner.menu menu\n",
    "  ON sales.product_id = menu.product_id\n",
    "  WHERE sales.order_date <= members.join_date\n",
    "  ORDER BY members.customer_id, sales.order_date DESC);\n",
    "  \n",
    "SELECT * FROM trigger_purchase_vw;"
   ]
  },
  {
   "cell_type": "markdown",
   "metadata": {},
   "source": [
    "8. What is the total items and amount spent for each member before they became a member?\n",
    "ASSUMPTION: ignore customers who are not yet members"
   ]
  },
  {
   "cell_type": "code",
   "execution_count": null,
   "metadata": {},
   "outputs": [],
   "source": [
    "CREATE VIEW member_priors_vw AS (\n",
    "  SELECT\n",
    "    members.customer_id,\n",
    "    COUNT(*) AS number_items,\n",
    "    SUM(menu.price) AS total_spent\n",
    "  FROM dannys_diner.members members\n",
    "  JOIN dannys_diner.sales sales\n",
    "  ON members.customer_id = sales.customer_id\n",
    "  JOIN dannys_diner.menu menu\n",
    "  ON sales.product_id = menu.product_id\n",
    "  WHERE members.join_date >= sales.order_date\n",
    "  GROUP BY members.customer_id);\n",
    "\n",
    "SELECT * FROM member_priors_vw;"
   ]
  },
  {
   "cell_type": "markdown",
   "metadata": {},
   "source": [
    "9.  If each $1 spent equates to 10 points and sushi has a 2x points multiplier - how many points would each customer have?"
   ]
  },
  {
   "cell_type": "code",
   "execution_count": null,
   "metadata": {},
   "outputs": [],
   "source": [
    "CREATE VIEW customer_pts_vw AS(\n",
    "  SELECT\n",
    "  \tsales.customer_id AS customer,\n",
    "  \tSUM(\n",
    "      CASE\n",
    "  \t\tWHEN sales.product_id = 1 THEN menu.price * 20\n",
    "  \t\tELSE menu.price *10\n",
    "      END) AS total_points\n",
    "  FROM dannys_diner.sales sales\n",
    "  JOIN dannys_diner.menu menu\n",
    "  ON sales.product_id = menu.product_id\n",
    "  GROUP BY customer\n",
    ");\n",
    "\n",
    "SELECT * FROM customer_pts_vw;"
   ]
  },
  {
   "cell_type": "markdown",
   "metadata": {},
   "source": [
    "10. In the first week after a customer joins the program (including their join date) they earn 2x points on all items, not just sushi - how many points do customer A and B have at the end of January?\n",
    "\n",
    "ASSUMPTION: The bonus window should close at the end of the 7th day, where day 1 is the day of joining"
   ]
  },
  {
   "cell_type": "code",
   "execution_count": null,
   "metadata": {},
   "outputs": [],
   "source": [
    "CREATE VIEW customer_pts_bonus_vw AS(\n",
    "  SELECT\n",
    "  \tsales.customer_id AS customer,\n",
    "  \tSUM(\n",
    "      CASE\n",
    "  \t\tWHEN sales.product_id = 1 OR sales.order_date <= (members.join_date + INTERVAL '7 days') THEN menu.price * 20\n",
    "  \t\tELSE menu.price * 10\n",
    "      END) AS total_points\n",
    "  FROM dannys_diner.sales sales\n",
    "  JOIN dannys_diner.menu menu\n",
    "  ON sales.product_id = menu.product_id\n",
    "  JOIN dannys_diner.members\n",
    "  ON sales.customer_id = members.customer_id\n",
    "  WHERE sales.order_date < '2021-02-01'\n",
    "  GROUP BY customer\n",
    ");\n",
    "\n",
    "SELECT * FROM customer_pts_bonus_vw;"
   ]
  }
 ],
 "metadata": {
  "language_info": {
   "name": "python"
  }
 },
 "nbformat": 4,
 "nbformat_minor": 2
}
